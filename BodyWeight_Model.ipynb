{
 "cells": [
  {
   "attachments": {},
   "cell_type": "markdown",
   "metadata": {},
   "source": [
    "# Im building a Regression Model to predict my body weight in kg "
   ]
  },
  {
   "cell_type": "code",
   "execution_count": 147,
   "metadata": {},
   "outputs": [],
   "source": [
    "\"\"\"importing libraries\"\"\"\n",
    "\n",
    "import pandas as pd\n",
    "import numpy as np\n",
    "import seaborn as sns\n",
    "import matplotlib.pyplot as plt\n",
    "import plotly.express as px\n",
    "import datetime as dt\n",
    "from keras.utils import to_categorical\n"
   ]
  },
  {
   "cell_type": "code",
   "execution_count": 148,
   "metadata": {},
   "outputs": [
    {
     "name": "stdout",
     "output_type": "stream",
     "text": [
      "<class 'pandas.core.frame.DataFrame'>\n",
      "RangeIndex: 994 entries, 0 to 993\n",
      "Data columns (total 9 columns):\n",
      " #   Column          Non-Null Count  Dtype  \n",
      "---  ------          --------------  -----  \n",
      " 0   Day             994 non-null    object \n",
      " 1   Date            994 non-null    object \n",
      " 2   Workout         994 non-null    object \n",
      " 3   Weight(Kg)      994 non-null    object \n",
      " 4   Bodyfat %       994 non-null    object \n",
      " 5   Calorie_intake  994 non-null    object \n",
      " 6   Step_count      994 non-null    int64  \n",
      " 7   Distance_m      994 non-null    float64\n",
      " 8   Calories_burnt  994 non-null    float64\n",
      "dtypes: float64(2), int64(1), object(6)\n",
      "memory usage: 70.0+ KB\n"
     ]
    }
   ],
   "source": [
    "\"\"\"Loading the dataset into a data frame and sumarising the data\"\"\"\n",
    "import chardet\n",
    "\n",
    "with open(r'C:\\Users\\ppuga\\Downloads\\Weight_2.csv', 'rb') as f:\n",
    "    result = chardet.detect(f.read())\n",
    "    \n",
    "df = pd.read_csv(r'C:\\Users\\ppuga\\Downloads\\Weight_2.csv', encoding=result['encoding'])\n",
    "df.info()"
   ]
  },
  {
   "cell_type": "code",
   "execution_count": 149,
   "metadata": {},
   "outputs": [
    {
     "data": {
      "text/html": [
       "<div>\n",
       "<style scoped>\n",
       "    .dataframe tbody tr th:only-of-type {\n",
       "        vertical-align: middle;\n",
       "    }\n",
       "\n",
       "    .dataframe tbody tr th {\n",
       "        vertical-align: top;\n",
       "    }\n",
       "\n",
       "    .dataframe thead th {\n",
       "        text-align: right;\n",
       "    }\n",
       "</style>\n",
       "<table border=\"1\" class=\"dataframe\">\n",
       "  <thead>\n",
       "    <tr style=\"text-align: right;\">\n",
       "      <th></th>\n",
       "      <th>Day</th>\n",
       "      <th>Date</th>\n",
       "      <th>Workout</th>\n",
       "      <th>Weight(Kg)</th>\n",
       "      <th>Bodyfat %</th>\n",
       "      <th>Calorie_intake</th>\n",
       "      <th>Step_count</th>\n",
       "      <th>Distance_m</th>\n",
       "      <th>Calories_burnt</th>\n",
       "    </tr>\n",
       "  </thead>\n",
       "  <tbody>\n",
       "    <tr>\n",
       "      <th>0</th>\n",
       "      <td>Monday</td>\n",
       "      <td>22/06/2020</td>\n",
       "      <td>N</td>\n",
       "      <td>91.3</td>\n",
       "      <td>20.7</td>\n",
       "      <td>2703</td>\n",
       "      <td>7073</td>\n",
       "      <td>5286.8010</td>\n",
       "      <td>368.900000</td>\n",
       "    </tr>\n",
       "    <tr>\n",
       "      <th>1</th>\n",
       "      <td>Tuesday</td>\n",
       "      <td>23/06/2020</td>\n",
       "      <td>Y</td>\n",
       "      <td>91.7</td>\n",
       "      <td>21.70</td>\n",
       "      <td>2703</td>\n",
       "      <td>3736</td>\n",
       "      <td>2780.1797</td>\n",
       "      <td>185.739960</td>\n",
       "    </tr>\n",
       "    <tr>\n",
       "      <th>2</th>\n",
       "      <td>Wednesday</td>\n",
       "      <td>24/06/2020</td>\n",
       "      <td>Y</td>\n",
       "      <td>91.3</td>\n",
       "      <td>22.80</td>\n",
       "      <td>2703</td>\n",
       "      <td>1692</td>\n",
       "      <td>1264.4500</td>\n",
       "      <td>83.049995</td>\n",
       "    </tr>\n",
       "    <tr>\n",
       "      <th>3</th>\n",
       "      <td>Thursday</td>\n",
       "      <td>25/06/2020</td>\n",
       "      <td>N</td>\n",
       "      <td>92.5</td>\n",
       "      <td>21.60</td>\n",
       "      <td>2703</td>\n",
       "      <td>8472</td>\n",
       "      <td>6387.8687</td>\n",
       "      <td>435.970000</td>\n",
       "    </tr>\n",
       "    <tr>\n",
       "      <th>4</th>\n",
       "      <td>Friday</td>\n",
       "      <td>26/06/2020</td>\n",
       "      <td>Y</td>\n",
       "      <td>91.7</td>\n",
       "      <td>22.50</td>\n",
       "      <td>2703</td>\n",
       "      <td>5606</td>\n",
       "      <td>4186.4320</td>\n",
       "      <td>281.840820</td>\n",
       "    </tr>\n",
       "    <tr>\n",
       "      <th>...</th>\n",
       "      <td>...</td>\n",
       "      <td>...</td>\n",
       "      <td>...</td>\n",
       "      <td>...</td>\n",
       "      <td>...</td>\n",
       "      <td>...</td>\n",
       "      <td>...</td>\n",
       "      <td>...</td>\n",
       "      <td>...</td>\n",
       "    </tr>\n",
       "    <tr>\n",
       "      <th>984</th>\n",
       "      <td>Friday</td>\n",
       "      <td>3/03/2023</td>\n",
       "      <td>Y</td>\n",
       "      <td>94.3</td>\n",
       "      <td>22.30</td>\n",
       "      <td>2522</td>\n",
       "      <td>10908</td>\n",
       "      <td>7621.3647</td>\n",
       "      <td>1232.553200</td>\n",
       "    </tr>\n",
       "    <tr>\n",
       "      <th>985</th>\n",
       "      <td>Saturday</td>\n",
       "      <td>4/03/2023</td>\n",
       "      <td>Y</td>\n",
       "      <td>94.4</td>\n",
       "      <td>21.90</td>\n",
       "      <td>2522</td>\n",
       "      <td>10410</td>\n",
       "      <td>6954.8400</td>\n",
       "      <td>919.983900</td>\n",
       "    </tr>\n",
       "    <tr>\n",
       "      <th>986</th>\n",
       "      <td>Sunday</td>\n",
       "      <td>5/03/2023</td>\n",
       "      <td>N</td>\n",
       "      <td>94.2</td>\n",
       "      <td>22.30</td>\n",
       "      <td>2522</td>\n",
       "      <td>11954</td>\n",
       "      <td>8728.9540</td>\n",
       "      <td>629.399900</td>\n",
       "    </tr>\n",
       "    <tr>\n",
       "      <th>987</th>\n",
       "      <td>Monday</td>\n",
       "      <td>6/03/2023</td>\n",
       "      <td>Y</td>\n",
       "      <td>94.5</td>\n",
       "      <td>22.60</td>\n",
       "      <td>2503</td>\n",
       "      <td>11065</td>\n",
       "      <td>7668.5740</td>\n",
       "      <td>939.660300</td>\n",
       "    </tr>\n",
       "    <tr>\n",
       "      <th>988</th>\n",
       "      <td>Tuesdy</td>\n",
       "      <td>7/03/2023</td>\n",
       "      <td>N</td>\n",
       "      <td>94.7</td>\n",
       "      <td>22.10</td>\n",
       "      <td>2503</td>\n",
       "      <td>12372</td>\n",
       "      <td>8938.9180</td>\n",
       "      <td>678.453500</td>\n",
       "    </tr>\n",
       "  </tbody>\n",
       "</table>\n",
       "<p>989 rows × 9 columns</p>\n",
       "</div>"
      ],
      "text/plain": [
       "           Day        Date Workout Weight(Kg) Bodyfat % Calorie_intake  \\\n",
       "0       Monday  22/06/2020       N       91.3      20.7           2703   \n",
       "1      Tuesday  23/06/2020       Y      91.7      21.70           2703   \n",
       "2    Wednesday  24/06/2020       Y      91.3      22.80           2703   \n",
       "3     Thursday  25/06/2020       N      92.5      21.60           2703   \n",
       "4       Friday  26/06/2020       Y       91.7     22.50           2703   \n",
       "..         ...         ...     ...        ...       ...            ...   \n",
       "984     Friday   3/03/2023       Y       94.3     22.30           2522   \n",
       "985   Saturday   4/03/2023       Y       94.4     21.90           2522   \n",
       "986     Sunday   5/03/2023       N       94.2     22.30           2522   \n",
       "987     Monday   6/03/2023       Y       94.5     22.60           2503   \n",
       "988     Tuesdy   7/03/2023       N       94.7     22.10           2503   \n",
       "\n",
       "     Step_count  Distance_m  Calories_burnt  \n",
       "0          7073   5286.8010      368.900000  \n",
       "1          3736   2780.1797      185.739960  \n",
       "2          1692   1264.4500       83.049995  \n",
       "3          8472   6387.8687      435.970000  \n",
       "4          5606   4186.4320      281.840820  \n",
       "..          ...         ...             ...  \n",
       "984       10908   7621.3647     1232.553200  \n",
       "985       10410   6954.8400      919.983900  \n",
       "986       11954   8728.9540      629.399900  \n",
       "987       11065   7668.5740      939.660300  \n",
       "988       12372   8938.9180      678.453500  \n",
       "\n",
       "[989 rows x 9 columns]"
      ]
     },
     "execution_count": 149,
     "metadata": {},
     "output_type": "execute_result"
    }
   ],
   "source": [
    "\"\"\"Inspecting the data\"\"\"\n",
    "df.head(-5)"
   ]
  },
  {
   "attachments": {},
   "cell_type": "markdown",
   "metadata": {},
   "source": [
    "# Data Cleaning"
   ]
  },
  {
   "cell_type": "code",
   "execution_count": 150,
   "metadata": {},
   "outputs": [],
   "source": [
    "\"\"\"As some of the features are objects and I need them to be floats I will convert them all into floats\"\"\"\n",
    "df['Weight(Kg)'] = df['Weight(Kg)'].astype('float64')\n",
    "df['Calorie_intake'] = df['Calorie_intake'].astype('float64')\n"
   ]
  },
  {
   "cell_type": "code",
   "execution_count": 151,
   "metadata": {},
   "outputs": [
    {
     "data": {
      "text/plain": [
       "array([91.3 , 91.7 , 92.5 , 91.9 , 92.  , 92.3 , 91.2 , 92.1 , 91.5 ,\n",
       "       91.6 , 91.1 , 90.9 , 91.8 , 90.8 , 91.  , 90.5 , 91.4 , 92.2 ,\n",
       "       91.85, 91.55, 92.7 , 92.6 , 92.05, 92.4 , 93.2 , 92.9 , 92.75,\n",
       "       94.3 , 94.6 , 93.6 , 93.4 , 93.  , 93.5 , 94.4 , 94.5 , 94.1 ,\n",
       "       94.7 , 94.8 , 95.2 , 95.3 , 94.9 , 95.6 , 95.5 , 94.  , 95.  ,\n",
       "       93.9 , 93.8 , 93.7 , 95.1 , 96.  , 96.2 , 95.4 , 94.2 , 95.8 ,\n",
       "       93.3 , 93.1 , 92.8 , 95.7 , 95.9 , 96.3 , 96.4 , 96.5 , 96.6 ,\n",
       "       96.7 , 97.  , 97.6 , 97.2 , 97.1 , 96.8 , 96.9 , 97.3 , 97.5 ,\n",
       "       98.  , 97.8 , 97.9 , 98.5 , 97.7 , 96.1 , 97.4 ,  9.  ])"
      ]
     },
     "execution_count": 151,
     "metadata": {},
     "output_type": "execute_result"
    }
   ],
   "source": [
    "\"\"\"Inspecting the Bodyfat % column I will need to clean some spaces and typos \"\"\"\n",
    "df['Weight(Kg)'].unique()"
   ]
  },
  {
   "cell_type": "code",
   "execution_count": 152,
   "metadata": {},
   "outputs": [],
   "source": [
    "\"\"\"CLeaning the Bodyfat % column and then convert into float\"\"\"\n",
    "# Strip whitespace from 'Bodyfat %' column\n",
    "#df['Bodyfat %'] = df['Bodyfat %'].str.strip()\n",
    "\n",
    "# Remove non-numeric characters from 'Bodyfat %' column\n",
    "df['Bodyfat %'] = df['Bodyfat %'].str.replace('g', '')\n",
    "\n",
    "# Convert 'Bodyfat %' column to float\n",
    "#df['Bodyfat %'] = df['Bodyfat %'].astype('float64')\n",
    "\n",
    "# Calculate summary statistics\n",
    "#summary = df['Bodyfat %'].describe()\n",
    "#print(summary)"
   ]
  },
  {
   "cell_type": "code",
   "execution_count": 153,
   "metadata": {},
   "outputs": [
    {
     "data": {
      "text/plain": [
       "\"convert the 'Date' column to datetime format and fixing a couple of typos\""
      ]
     },
     "execution_count": 153,
     "metadata": {},
     "output_type": "execute_result"
    }
   ],
   "source": [
    "\"\"\"convert the 'Date' column to datetime format and fixing a couple of typos\"\"\"\n",
    "\n",
    "\n",
    "# Replace incorrect dates\n",
    "#df['Date'] = df['Date'].replace('19/13/20', '19/12/20')\n",
    "#df['Date'] = df['Date'].replace('26/13/20', '26/12/20')\n",
    "\n",
    "# Remove extra whitespace\n",
    "#df['Date'] = df['Date'].str.strip()\n",
    "\n",
    "# Convert to datetime\n",
    "#df['Date'] = pd.to_datetime(df['Date'], format='%d/%m/%Y', errors='coerce')\n"
   ]
  },
  {
   "cell_type": "code",
   "execution_count": 154,
   "metadata": {},
   "outputs": [
    {
     "data": {
      "text/html": [
       "<div>\n",
       "<style scoped>\n",
       "    .dataframe tbody tr th:only-of-type {\n",
       "        vertical-align: middle;\n",
       "    }\n",
       "\n",
       "    .dataframe tbody tr th {\n",
       "        vertical-align: top;\n",
       "    }\n",
       "\n",
       "    .dataframe thead th {\n",
       "        text-align: right;\n",
       "    }\n",
       "</style>\n",
       "<table border=\"1\" class=\"dataframe\">\n",
       "  <thead>\n",
       "    <tr style=\"text-align: right;\">\n",
       "      <th></th>\n",
       "      <th>Day</th>\n",
       "      <th>Date</th>\n",
       "      <th>Weight(Kg)</th>\n",
       "      <th>Bodyfat %</th>\n",
       "      <th>Calorie_intake</th>\n",
       "      <th>Step_count</th>\n",
       "      <th>Distance_m</th>\n",
       "      <th>Calories_burnt</th>\n",
       "      <th>Workout_N</th>\n",
       "      <th>Workout_Y</th>\n",
       "    </tr>\n",
       "  </thead>\n",
       "  <tbody>\n",
       "    <tr>\n",
       "      <th>0</th>\n",
       "      <td>Monday</td>\n",
       "      <td>22/06/2020</td>\n",
       "      <td>91.3</td>\n",
       "      <td>20.7</td>\n",
       "      <td>2703.0</td>\n",
       "      <td>7073</td>\n",
       "      <td>5286.8010</td>\n",
       "      <td>368.900000</td>\n",
       "      <td>1</td>\n",
       "      <td>0</td>\n",
       "    </tr>\n",
       "    <tr>\n",
       "      <th>1</th>\n",
       "      <td>Tuesday</td>\n",
       "      <td>23/06/2020</td>\n",
       "      <td>91.7</td>\n",
       "      <td>21.70</td>\n",
       "      <td>2703.0</td>\n",
       "      <td>3736</td>\n",
       "      <td>2780.1797</td>\n",
       "      <td>185.739960</td>\n",
       "      <td>0</td>\n",
       "      <td>1</td>\n",
       "    </tr>\n",
       "    <tr>\n",
       "      <th>2</th>\n",
       "      <td>Wednesday</td>\n",
       "      <td>24/06/2020</td>\n",
       "      <td>91.3</td>\n",
       "      <td>22.80</td>\n",
       "      <td>2703.0</td>\n",
       "      <td>1692</td>\n",
       "      <td>1264.4500</td>\n",
       "      <td>83.049995</td>\n",
       "      <td>0</td>\n",
       "      <td>1</td>\n",
       "    </tr>\n",
       "    <tr>\n",
       "      <th>3</th>\n",
       "      <td>Thursday</td>\n",
       "      <td>25/06/2020</td>\n",
       "      <td>92.5</td>\n",
       "      <td>21.60</td>\n",
       "      <td>2703.0</td>\n",
       "      <td>8472</td>\n",
       "      <td>6387.8687</td>\n",
       "      <td>435.970000</td>\n",
       "      <td>1</td>\n",
       "      <td>0</td>\n",
       "    </tr>\n",
       "    <tr>\n",
       "      <th>4</th>\n",
       "      <td>Friday</td>\n",
       "      <td>26/06/2020</td>\n",
       "      <td>91.7</td>\n",
       "      <td>22.50</td>\n",
       "      <td>2703.0</td>\n",
       "      <td>5606</td>\n",
       "      <td>4186.4320</td>\n",
       "      <td>281.840820</td>\n",
       "      <td>0</td>\n",
       "      <td>1</td>\n",
       "    </tr>\n",
       "  </tbody>\n",
       "</table>\n",
       "</div>"
      ],
      "text/plain": [
       "         Day        Date  Weight(Kg) Bodyfat %  Calorie_intake  Step_count  \\\n",
       "0     Monday  22/06/2020        91.3      20.7          2703.0        7073   \n",
       "1    Tuesday  23/06/2020        91.7     21.70          2703.0        3736   \n",
       "2  Wednesday  24/06/2020        91.3     22.80          2703.0        1692   \n",
       "3   Thursday  25/06/2020        92.5     21.60          2703.0        8472   \n",
       "4     Friday  26/06/2020        91.7     22.50          2703.0        5606   \n",
       "\n",
       "   Distance_m  Calories_burnt  Workout_N  Workout_Y  \n",
       "0   5286.8010      368.900000          1          0  \n",
       "1   2780.1797      185.739960          0          1  \n",
       "2   1264.4500       83.049995          0          1  \n",
       "3   6387.8687      435.970000          1          0  \n",
       "4   4186.4320      281.840820          0          1  "
      ]
     },
     "execution_count": 154,
     "metadata": {},
     "output_type": "execute_result"
    }
   ],
   "source": [
    "# convert the \"Workout\" column to categorical\n",
    "#df['Workout'] = df['Workout'].astype('category')\n",
    "# One-hot encode the \"workout\" column\n",
    "df = pd.get_dummies(df, columns=[\"Workout\"])\n",
    "df.head()"
   ]
  },
  {
   "cell_type": "code",
   "execution_count": 155,
   "metadata": {},
   "outputs": [
    {
     "name": "stdout",
     "output_type": "stream",
     "text": [
      "<class 'pandas.core.frame.DataFrame'>\n",
      "RangeIndex: 994 entries, 0 to 993\n",
      "Data columns (total 10 columns):\n",
      " #   Column          Non-Null Count  Dtype  \n",
      "---  ------          --------------  -----  \n",
      " 0   Day             994 non-null    object \n",
      " 1   Date            994 non-null    object \n",
      " 2   Weight(Kg)      994 non-null    float64\n",
      " 3   Bodyfat %       994 non-null    object \n",
      " 4   Calorie_intake  994 non-null    float64\n",
      " 5   Step_count      994 non-null    int64  \n",
      " 6   Distance_m      994 non-null    float64\n",
      " 7   Calories_burnt  994 non-null    float64\n",
      " 8   Workout_N       994 non-null    uint8  \n",
      " 9   Workout_Y       994 non-null    uint8  \n",
      "dtypes: float64(4), int64(1), object(3), uint8(2)\n",
      "memory usage: 64.2+ KB\n"
     ]
    }
   ],
   "source": [
    "\"\"\"Making sure the dtypes are correct\"\"\"\n",
    "df.info()"
   ]
  },
  {
   "cell_type": "code",
   "execution_count": 156,
   "metadata": {},
   "outputs": [
    {
     "data": {
      "text/plain": [
       "Calorie_intake   -0.205039\n",
       "Step_count       -0.138916\n",
       "Distance_m       -0.133368\n",
       "Calories_burnt   -0.126817\n",
       "Workout_N        -0.017199\n",
       "Workout_Y         0.017199\n",
       "Weight(Kg)        1.000000\n",
       "Name: Weight(Kg), dtype: float64"
      ]
     },
     "execution_count": 156,
     "metadata": {},
     "output_type": "execute_result"
    }
   ],
   "source": [
    "\"\"\"\n",
    "Checking the values for the correlation between the label Weight (Kg) and all the other features\"\"\"\n",
    "df.corr()['Weight(Kg)'].sort_values()"
   ]
  },
  {
   "cell_type": "code",
   "execution_count": 157,
   "metadata": {},
   "outputs": [
    {
     "data": {
      "text/plain": [
       "<AxesSubplot:>"
      ]
     },
     "execution_count": 157,
     "metadata": {},
     "output_type": "execute_result"
    },
    {
     "data": {
      "image/png": "[encoded data removed]",
      "text/plain": [
       "<Figure size 1008x576 with 1 Axes>"
      ]
     },
     "metadata": {
      "needs_background": "light"
     },
     "output_type": "display_data"
    }
   ],
   "source": [
    "\"\"\"Visualsing the correlation of features vs the label\"\"\"\n",
    "plt.figure(figsize=(14,8))\n",
    "df.corr()['Weight(Kg)'][:-1].sort_values().plot(kind ='bar')"
   ]
  },
  {
   "attachments": {},
   "cell_type": "markdown",
   "metadata": {},
   "source": [
    "# DF Split and Modeling"
   ]
  },
  {
   "cell_type": "code",
   "execution_count": 158,
   "metadata": {},
   "outputs": [
    {
     "name": "stdout",
     "output_type": "stream",
     "text": [
      "Mean squared error: 16.265259076555814\n",
      "R-squared: 0.3877123975225105\n"
     ]
    }
   ],
   "source": [
    "\"\"\"Building a Linear Regression Model\"\"\"\n",
    "from sklearn.model_selection import train_test_split\n",
    "from sklearn.linear_model import LinearRegression\n",
    "from sklearn.metrics import mean_squared_error, r2_score\n",
    "\n",
    "# Split the data into training and testing sets\n",
    "X = df.drop(['Weight(Kg)', 'Date','Day','Distance_m','Calories_burnt','Calorie_intake'], axis=1)\n",
    "y = df['Weight(Kg)']\n",
    "X_train, X_test, y_train, y_test = train_test_split(X, y, test_size=0.3, random_state=42)\n",
    "\n",
    "# Create a linear regression model object\n",
    "model = LinearRegression()\n",
    "\n",
    "# Fit the model on the training data\n",
    "model.fit(X_train, y_train)\n",
    "\n",
    "# Use the model to make predictions on the testing data\n",
    "y_pred = model.predict(X_test)\n",
    "\n",
    "# Evaluate the model's performance using metrics such as mean squared error and R-squared\n",
    "print('Mean squared error:', mean_squared_error(y_test, y_pred))\n",
    "print('R-squared:', r2_score(y_test, y_pred))\n"
   ]
  },
  {
   "cell_type": "code",
   "execution_count": 159,
   "metadata": {},
   "outputs": [
    {
     "name": "stdout",
     "output_type": "stream",
     "text": [
      "Mean squared error: 25.436184386695494\n",
      "R-squared: 0.04248310580227144\n"
     ]
    }
   ],
   "source": [
    "\"\"\"Decision Tree Model\"\"\"\n",
    "from sklearn.tree import DecisionTreeRegressor\n",
    "from sklearn.metrics import mean_squared_error, r2_score\n",
    "\n",
    "# Split the data into training and testing sets\n",
    "X = df.drop(['Weight(Kg)', 'Date', 'Day', 'Distance_m'], axis=1)\n",
    "y = df['Weight(Kg)']\n",
    "X_train, X_test, y_train, y_test = train_test_split(X, y, test_size=0.3, random_state=42)\n",
    "\n",
    "# Create a decision tree regression model object\n",
    "model = DecisionTreeRegressor(random_state=42,max_depth=100,max_leaf_nodes=5)\n",
    "\n",
    "# Fit the model on the training data\n",
    "model.fit(X_train, y_train)\n",
    "\n",
    "# Use the model to make predictions on the testing data\n",
    "y_pred = model.predict(X_test)\n",
    "\n",
    "# Evaluate the model's performance using metrics such as mean squared error and R-squared\n",
    "print('Mean squared error:', mean_squared_error(y_test, y_pred))\n",
    "print('R-squared:', r2_score(y_test, y_pred))\n"
   ]
  },
  {
   "cell_type": "code",
   "execution_count": 160,
   "metadata": {},
   "outputs": [
    {
     "name": "stdout",
     "output_type": "stream",
     "text": [
      "Mean squared error: 24.835699193534754\n",
      "R-squared: 0.06508770358415172\n"
     ]
    }
   ],
   "source": [
    "\"\"\"Random Forest Model\"\"\"\n",
    "from sklearn.ensemble import RandomForestRegressor\n",
    "\n",
    "\n",
    "# Split the data into training and testing sets\n",
    "X = df.drop(['Weight(Kg)', 'Date', 'Day'], axis=1)\n",
    "y = df['Weight(Kg)']\n",
    "X_train, X_test, y_train, y_test = train_test_split(X, y, test_size=0.3, random_state=42)\n",
    "\n",
    "# Create a random forest regression model object\n",
    "model = RandomForestRegressor(n_estimators=10, random_state=42,max_leaf_nodes=50,max_depth=9)\n",
    "\n",
    "# Fit the model on the training data\n",
    "model.fit(X_train, y_train)\n",
    "\n",
    "# Use the model to make predictions on the testing data\n",
    "y_pred = model.predict(X_test)\n",
    "\n",
    "# Evaluate the model's performance using metrics such as mean squared error and R-squared\n",
    "print('Mean squared error:', mean_squared_error(y_test, y_pred))\n",
    "print('R-squared:', r2_score(y_test, y_pred))\n"
   ]
  },
  {
   "attachments": {},
   "cell_type": "markdown",
   "metadata": {},
   "source": [
    "#  SO after 3 experiments with different models the best results I had was with the Linear Regression Model\n"
   ]
  }
 ],
 "metadata": {
  "kernelspec": {
   "display_name": "base",
   "language": "python",
   "name": "python3"
  },
  "language_info": {
   "codemirror_mode": {
    "name": "ipython",
    "version": 3
   },
   "file_extension": ".py",
   "mimetype": "text/x-python",
   "name": "python",
   "nbconvert_exporter": "python",
   "pygments_lexer": "ipython3",
   "version": "3.9.12"
  },
  "orig_nbformat": 4
 },
 "nbformat": 4,
 "nbformat_minor": 2
}
